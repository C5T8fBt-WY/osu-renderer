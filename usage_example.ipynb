{
 "cells": [
  {
   "cell_type": "code",
   "execution_count": 1,
   "metadata": {},
   "outputs": [],
   "source": [
    "from osu_renderer import StandardBeatmapRenderer\n",
    "\n",
    "renderer = StandardBeatmapRenderer()\n",
    "renderer.render(\n",
    "    beatmap_path=\"./assets/sample_beatmap/None - Test Beatmap (osu!) [Normal].osu\",\n",
    "    output_path=\"out.mp4\",\n",
    "    fourcc=\"avc1\",  # mp4v, etc.\n",
    ")"
   ]
  }
 ],
 "metadata": {
  "language_info": {
   "name": "python"
  }
 },
 "nbformat": 4,
 "nbformat_minor": 2
}
